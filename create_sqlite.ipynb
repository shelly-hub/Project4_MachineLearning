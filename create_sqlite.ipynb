{
 "cells": [
  {
   "cell_type": "markdown",
   "metadata": {},
   "source": [
    "### Creating an SQLite file from CSV file"
   ]
  },
  {
   "cell_type": "code",
   "execution_count": 1,
   "metadata": {},
   "outputs": [],
   "source": [
    "#Import required packages\n",
    "import sqlite3\n",
    "from sqlalchemy import create_engine\n",
    "from sqlalchemy.ext.automap import automap_base\n",
    "import pandas as pd\n",
    "from pathlib import Path"
   ]
  },
  {
   "cell_type": "code",
   "execution_count": 2,
   "metadata": {},
   "outputs": [],
   "source": [
    "#Save file path\n",
    "Path = \"canine_cushings_disease_clean.csv\""
   ]
  },
  {
   "cell_type": "code",
   "execution_count": 3,
   "metadata": {},
   "outputs": [],
   "source": [
    "#Create dataframe\n",
    "csv_df = pd.read_csv(Path)"
   ]
  },
  {
   "cell_type": "code",
   "execution_count": 4,
   "metadata": {},
   "outputs": [],
   "source": [
    "#Create an engine\n",
    "engine = create_engine(\"sqlite:///cushings.db\", echo=True)"
   ]
  },
  {
   "cell_type": "code",
   "execution_count": 5,
   "metadata": {},
   "outputs": [],
   "source": [
    "#Connect to engine\n",
    "sqlite_connection = engine.connect()"
   ]
  },
  {
   "cell_type": "code",
   "execution_count": 6,
   "metadata": {},
   "outputs": [],
   "source": [
    "#Save table name to variable\n",
    "sqlite_table = \"cushings_table\""
   ]
  },
  {
   "cell_type": "code",
   "execution_count": 7,
   "metadata": {},
   "outputs": [
    {
     "name": "stdout",
     "output_type": "stream",
     "text": [
      "2023-08-10 12:47:53,290 INFO sqlalchemy.engine.Engine PRAGMA main.table_info(\"cushings_table\")\n",
      "2023-08-10 12:47:53,291 INFO sqlalchemy.engine.Engine [raw sql] ()\n",
      "2023-08-10 12:47:53,292 INFO sqlalchemy.engine.Engine PRAGMA temp.table_info(\"cushings_table\")\n",
      "2023-08-10 12:47:53,292 INFO sqlalchemy.engine.Engine [raw sql] ()\n",
      "2023-08-10 12:47:53,295 INFO sqlalchemy.engine.Engine \n",
      "CREATE TABLE cushings_table (\n",
      "\t\"index\" BIGINT, \n",
      "\t\"PatientID\" BIGINT, \n",
      "\t\"Diagnosis\" BIGINT, \n",
      "\t\"Breed\" TEXT, \n",
      "\t\"Age\" BIGINT, \n",
      "\t\"Sex\" TEXT, \n",
      "\t\"Neutered\" BOOLEAN, \n",
      "\t\"WeightChange\" TEXT, \n",
      "\t\"Weight\" FLOAT, \n",
      "\t\"Hospitalised\" BOOLEAN, \n",
      "\t\"Vomiting\" BOOLEAN, \n",
      "\t\"Diarrhoea\" BOOLEAN, \n",
      "\t\"Hepatomegaly\" BOOLEAN, \n",
      "\t\"ThinDrySkin\" BOOLEAN, \n",
      "\t\"Alopecia\" BOOLEAN, \n",
      "\t\"Pruritus\" BOOLEAN, \n",
      "\t\"MuscleWastageWeakness\" BOOLEAN, \n",
      "\t\"Lethargy\" BOOLEAN, \n",
      "\t\"Panting\" BOOLEAN, \n",
      "\t\"Neurological\" BOOLEAN, \n",
      "\t\"Polydipsia\" BOOLEAN, \n",
      "\t\"Polyuria\" BOOLEAN, \n",
      "\t\"Polyphagia\" BOOLEAN, \n",
      "\t\"IncreasedALKP\" BOOLEAN, \n",
      "\t\"IncreasedATL_GGT_AST\" BOOLEAN, \n",
      "\t\"Hypertensive\" BOOLEAN, \n",
      "\t\"LowBloodSugar\" BOOLEAN, \n",
      "\t\"Hypothyroid\" BOOLEAN, \n",
      "\t\"CruciateSurgery\" BOOLEAN\n",
      ")\n",
      "\n",
      "\n",
      "2023-08-10 12:47:53,296 INFO sqlalchemy.engine.Engine [no key 0.00050s] ()\n",
      "2023-08-10 12:47:53,300 INFO sqlalchemy.engine.Engine COMMIT\n",
      "2023-08-10 12:47:53,301 INFO sqlalchemy.engine.Engine CREATE INDEX ix_cushings_table_index ON cushings_table (\"index\")\n",
      "2023-08-10 12:47:53,301 INFO sqlalchemy.engine.Engine [no key 0.00038s] ()\n",
      "2023-08-10 12:47:53,304 INFO sqlalchemy.engine.Engine COMMIT\n",
      "2023-08-10 12:47:53,389 INFO sqlalchemy.engine.Engine INSERT INTO cushings_table (\"index\", \"PatientID\", \"Diagnosis\", \"Breed\", \"Age\", \"Sex\", \"Neutered\", \"WeightChange\", \"Weight\", \"Hospitalised\", \"Vomiting\", \"Diarrhoea\", \"Hepatomegaly\", \"ThinDrySkin\", \"Alopecia\", \"Pruritus\", \"MuscleWastageWeakness\", \"Lethargy\", \"Panting\", \"Neurological\", \"Polydipsia\", \"Polyuria\", \"Polyphagia\", \"IncreasedALKP\", \"IncreasedATL_GGT_AST\", \"Hypertensive\", \"LowBloodSugar\", \"Hypothyroid\", \"CruciateSurgery\") VALUES (?, ?, ?, ?, ?, ?, ?, ?, ?, ?, ?, ?, ?, ?, ?, ?, ?, ?, ?, ?, ?, ?, ?, ?, ?, ?, ?, ?, ?)\n",
      "2023-08-10 12:47:53,389 INFO sqlalchemy.engine.Engine [generated in 0.02372s] ((0, 1, 1, 'Jack Russell Terrier', 12, 'M', 1, 'No change', 13.0, 0, 0, 0, 0, 1, 0, 0, 0, 0, 0, 0, 1, 1, 0, 1, 1, 0, 0, 0, 0), (1, 2, 1, 'Bichon Frise', 12, 'F', 1, 'No change', 9.3, 0, 0, 0, 0, 0, 0, 0, 0, 0, 1, 0, 1, 1, 0, 1, 1, 0, 0, 0, 0), (2, 3, 1, 'West Highland White Terrier', 13, 'F', 1, 'No change', 9.82, 0, 0, 0, 1, 1, 0, 0, 0, 0, 0, 0, 1, 1, 1, 1, 1, 0, 0, 0, 0), (3, 4, 1, 'Cocker Spaniel', 12, 'F', 1, 'No change', 11.3, 1, 0, 0, 1, 0, 0, 0, 0, 0, 1, 0, 1, 1, 0, None, None, 0, 0, 0, 0), (4, 5, 1, 'Crossbreed', 9, 'F', 0, 'No change', 9.3, 0, 0, 1, 1, 0, 0, 0, 0, 1, 0, 0, 1, 1, 0, 1, 1, 0, 0, 0, 0), (5, 6, 1, 'Border Terrier', 17, 'M', 1, 'No change', None, 0, 0, 0, 1, 0, 0, 0, 1, 0, 0, 1, 1, 1, 1, None, None, 0, 0, 0, 0), (6, 7, 1, 'Labrador Retriever', 11, 'F', 1, 'Weight gain', 33.2, 1, 0, 0, 0, 0, 0, 0, 0, 0, 0, 0, 1, 0, 0, None, None, 0, 0, 1, 0), (7, 8, 1, 'Crossbreed', 13, 'F', 0, 'No change', 12.4, 0, 0, 0, 1, 0, 0, 0, 0, 0, 1, 1, 0, 0, 0, 1, 1, 0, 0, 0, 0)  ... displaying 10 of 1161 total bound parameter sets ...  (1159, 1160, 0, 'West Highland White Terrier', 15, 'F', 1, 'No change', 9.4, 0, 0, 0, 0, 1, 1, 0, 0, 0, 0, 0, 0, 0, 0, 1, 0, 0, 0, 0, 0), (1160, 1161, 0, 'Crossbreed', 14, 'F', 1, 'Weight loss', 17.5, 0, 0, 0, 0, 0, 0, 0, 0, 0, 0, 0, 0, 0, 0, None, None, 0, 0, 0, 0))\n",
      "2023-08-10 12:47:53,395 INFO sqlalchemy.engine.Engine COMMIT\n"
     ]
    },
    {
     "data": {
      "text/plain": [
       "1161"
      ]
     },
     "execution_count": 7,
     "metadata": {},
     "output_type": "execute_result"
    }
   ],
   "source": [
    "#Import dataframe to sqlite\n",
    "csv_df.to_sql(sqlite_table, sqlite_connection, if_exists=\"replace\")"
   ]
  },
  {
   "cell_type": "code",
   "execution_count": 8,
   "metadata": {},
   "outputs": [],
   "source": [
    "#Close connection\n",
    "sqlite_connection.close()"
   ]
  },
  {
   "cell_type": "code",
   "execution_count": 9,
   "metadata": {},
   "outputs": [],
   "source": [
    "#Create engine\n",
    "engine = create_engine(\"sqlite:///cushings.db\", echo=True)\n",
    "\n",
    "#Connect to engine\n",
    "sqlite_connection = engine.connect()"
   ]
  },
  {
   "cell_type": "code",
   "execution_count": 10,
   "metadata": {},
   "outputs": [
    {
     "name": "stdout",
     "output_type": "stream",
     "text": [
      "2023-08-10 12:47:57,585 INFO sqlalchemy.engine.Engine DROP TABLE IF EXISTS cushings_table_final\n",
      "2023-08-10 12:47:57,585 INFO sqlalchemy.engine.Engine [raw sql] ()\n",
      "2023-08-10 12:47:57,589 INFO sqlalchemy.engine.Engine COMMIT\n",
      "2023-08-10 12:47:57,590 INFO sqlalchemy.engine.Engine CREATE TABLE cushings_table_final ( PatientID int PRIMARY KEY, Diagnosis text, Breed text, Age int, Sex text, Neutered bool, WeightChange text, Weight float, Hospitalised bool, Vomiting bool, Diarrhoea bool, Hepatomegaly bool, ThinDrySkin bool, Alopecia bool, Pruritus bool, MuscleWastageWeakness bool, Lethargy bool, Panting bool, Neurological bool, Polydipsia bool, Polyuria bool, Polyphagia bool, IncreasedALKP text, IncreasedATL_GGT_AST text, Hypertensive bool, LowBloodSugar bool, Hypothyroid bool, CruciateSurgery bool)\n",
      "2023-08-10 12:47:57,590 INFO sqlalchemy.engine.Engine [raw sql] ()\n",
      "2023-08-10 12:47:57,594 INFO sqlalchemy.engine.Engine COMMIT\n"
     ]
    },
    {
     "data": {
      "text/plain": [
       "<sqlalchemy.engine.cursor.LegacyCursorResult at 0x2766d96cdc0>"
      ]
     },
     "execution_count": 10,
     "metadata": {},
     "output_type": "execute_result"
    }
   ],
   "source": [
    "#Execute connection\n",
    "sqlite_connection.execute(\"DROP TABLE IF EXISTS cushings_table_final\")\n",
    "sqlite_connection.execute(\"CREATE TABLE cushings_table_final ( PatientID int PRIMARY KEY, Diagnosis text, Breed text, Age int, Sex text, Neutered bool, WeightChange text, Weight float, Hospitalised bool, Vomiting bool, Diarrhoea bool, Hepatomegaly bool, ThinDrySkin bool, Alopecia bool, Pruritus bool, MuscleWastageWeakness bool, Lethargy bool, Panting bool, Neurological bool, Polydipsia bool, Polyuria bool, Polyphagia bool, IncreasedALKP text, IncreasedATL_GGT_AST text, Hypertensive bool, LowBloodSugar bool, Hypothyroid bool, CruciateSurgery bool)\")"
   ]
  },
  {
   "cell_type": "code",
   "execution_count": 11,
   "metadata": {},
   "outputs": [
    {
     "name": "stdout",
     "output_type": "stream",
     "text": [
      "2023-08-10 12:47:58,916 INFO sqlalchemy.engine.Engine INSERT INTO cushings_table_final SELECT PatientID, Diagnosis, Breed, Age, Sex, Neutered, WeightChange, Weight, Hospitalised, Vomiting, Diarrhoea, Hepatomegaly, ThinDrySkin, Alopecia, Pruritus, MuscleWastageWeakness, Lethargy, Panting, Neurological, Polydipsia, Polyuria, Polyphagia, IncreasedALKP, IncreasedATL_GGT_AST, Hypertensive, LowBloodSugar, Hypothyroid, CruciateSurgery FROM cushings_table\n",
      "2023-08-10 12:47:58,917 INFO sqlalchemy.engine.Engine [raw sql] ()\n",
      "2023-08-10 12:47:58,921 INFO sqlalchemy.engine.Engine COMMIT\n"
     ]
    },
    {
     "data": {
      "text/plain": [
       "<sqlalchemy.engine.cursor.LegacyCursorResult at 0x2766d96ce80>"
      ]
     },
     "execution_count": 11,
     "metadata": {},
     "output_type": "execute_result"
    }
   ],
   "source": [
    "#Execute connection\n",
    "sqlite_connection.execute(\"INSERT INTO cushings_table_final SELECT PatientID, Diagnosis, Breed, Age, Sex, Neutered, WeightChange, Weight, Hospitalised, Vomiting, Diarrhoea, Hepatomegaly, ThinDrySkin, Alopecia, Pruritus, MuscleWastageWeakness, Lethargy, Panting, Neurological, Polydipsia, Polyuria, Polyphagia, IncreasedALKP, IncreasedATL_GGT_AST, Hypertensive, LowBloodSugar, Hypothyroid, CruciateSurgery FROM cushings_table\")"
   ]
  },
  {
   "cell_type": "code",
   "execution_count": 12,
   "metadata": {},
   "outputs": [
    {
     "name": "stdout",
     "output_type": "stream",
     "text": [
      "2023-08-10 12:47:59,993 INFO sqlalchemy.engine.Engine DROP TABLE cushings_table\n",
      "2023-08-10 12:47:59,994 INFO sqlalchemy.engine.Engine [raw sql] ()\n",
      "2023-08-10 12:47:59,997 INFO sqlalchemy.engine.Engine COMMIT\n"
     ]
    },
    {
     "data": {
      "text/plain": [
       "<sqlalchemy.engine.cursor.LegacyCursorResult at 0x27669d12b80>"
      ]
     },
     "execution_count": 12,
     "metadata": {},
     "output_type": "execute_result"
    }
   ],
   "source": [
    "#Execute connection\n",
    "sqlite_connection.execute(\"DROP TABLE cushings_table\")"
   ]
  },
  {
   "cell_type": "code",
   "execution_count": 13,
   "metadata": {},
   "outputs": [],
   "source": [
    "#Close connection\n",
    "sqlite_connection.close()"
   ]
  },
  {
   "cell_type": "code",
   "execution_count": 14,
   "metadata": {},
   "outputs": [
    {
     "name": "stdout",
     "output_type": "stream",
     "text": [
      "2023-08-10 12:48:02,794 INFO sqlalchemy.engine.Engine SELECT name FROM sqlite_master WHERE type='table' ORDER BY name\n",
      "2023-08-10 12:48:02,795 INFO sqlalchemy.engine.Engine [raw sql] ()\n",
      "2023-08-10 12:48:02,797 INFO sqlalchemy.engine.Engine PRAGMA main.table_xinfo(\"cushings_table_final\")\n",
      "2023-08-10 12:48:02,798 INFO sqlalchemy.engine.Engine [raw sql] ()\n",
      "2023-08-10 12:48:02,801 INFO sqlalchemy.engine.Engine SELECT sql FROM  (SELECT * FROM sqlite_master UNION ALL   SELECT * FROM sqlite_temp_master) WHERE name = ? AND type = 'table'\n",
      "2023-08-10 12:48:02,802 INFO sqlalchemy.engine.Engine [raw sql] ('cushings_table_final',)\n",
      "2023-08-10 12:48:02,803 INFO sqlalchemy.engine.Engine PRAGMA main.foreign_key_list(\"cushings_table_final\")\n",
      "2023-08-10 12:48:02,803 INFO sqlalchemy.engine.Engine [raw sql] ()\n",
      "2023-08-10 12:48:02,804 INFO sqlalchemy.engine.Engine PRAGMA temp.foreign_key_list(\"cushings_table_final\")\n",
      "2023-08-10 12:48:02,804 INFO sqlalchemy.engine.Engine [raw sql] ()\n",
      "2023-08-10 12:48:02,805 INFO sqlalchemy.engine.Engine SELECT sql FROM  (SELECT * FROM sqlite_master UNION ALL   SELECT * FROM sqlite_temp_master) WHERE name = ? AND type = 'table'\n",
      "2023-08-10 12:48:02,806 INFO sqlalchemy.engine.Engine [raw sql] ('cushings_table_final',)\n",
      "2023-08-10 12:48:02,808 INFO sqlalchemy.engine.Engine PRAGMA main.index_list(\"cushings_table_final\")\n",
      "2023-08-10 12:48:02,809 INFO sqlalchemy.engine.Engine [raw sql] ()\n",
      "2023-08-10 12:48:02,809 INFO sqlalchemy.engine.Engine PRAGMA main.index_list(\"cushings_table_final\")\n",
      "2023-08-10 12:48:02,810 INFO sqlalchemy.engine.Engine [raw sql] ()\n",
      "2023-08-10 12:48:02,811 INFO sqlalchemy.engine.Engine PRAGMA main.index_info(\"sqlite_autoindex_cushings_table_final_1\")\n",
      "2023-08-10 12:48:02,811 INFO sqlalchemy.engine.Engine [raw sql] ()\n",
      "2023-08-10 12:48:02,812 INFO sqlalchemy.engine.Engine SELECT sql FROM  (SELECT * FROM sqlite_master UNION ALL   SELECT * FROM sqlite_temp_master) WHERE name = ? AND type = 'table'\n",
      "2023-08-10 12:48:02,813 INFO sqlalchemy.engine.Engine [raw sql] ('cushings_table_final',)\n",
      "['cushings_table_final']\n"
     ]
    }
   ],
   "source": [
    "#Create engine\n",
    "engine = create_engine(\"sqlite:///cushings.db\", echo=True)\n",
    "\n",
    "#Prepare base\n",
    "Base = automap_base()\n",
    "Base.prepare(autoload_with=engine)\n",
    "print(Base.classes.keys())"
   ]
  },
  {
   "cell_type": "code",
   "execution_count": 15,
   "metadata": {},
   "outputs": [],
   "source": [
    "#Close connection\n",
    "sqlite_connection.close()"
   ]
  }
 ],
 "metadata": {
  "kernelspec": {
   "display_name": "base",
   "language": "python",
   "name": "python3"
  },
  "language_info": {
   "codemirror_mode": {
    "name": "ipython",
    "version": 3
   },
   "file_extension": ".py",
   "mimetype": "text/x-python",
   "name": "python",
   "nbconvert_exporter": "python",
   "pygments_lexer": "ipython3",
   "version": "3.9.13"
  },
  "orig_nbformat": 4
 },
 "nbformat": 4,
 "nbformat_minor": 2
}
